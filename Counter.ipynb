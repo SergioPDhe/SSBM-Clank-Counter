{
 "cells": [
  {
   "cell_type": "code",
   "execution_count": null,
   "id": "5bae636f-8d99-4bd1-b0c5-17aaef66bfd3",
   "metadata": {},
   "outputs": [],
   "source": [
    "from scipy.io import wavfile\n",
    "import numpy as np\n",
    "import pandas as pd\n",
    "import math\n",
    "\n",
    "\n",
    "def Count(fname, threshold):\n",
    "    rate, data = wavfile.read(fname)\n",
    "    data = abs(data[:,0])\n",
    "    size = data.size\n",
    "    \n",
    "    clanks = 0 # number of clanks counted so far\n",
    "    nonClanks = 0\n",
    "    previous = 0 # last i value for clank counted\n",
    "    difference = 0 # time since last clank\n",
    "    \n",
    "    i = 0 \n",
    "    while(i<size): \n",
    "        d = data[i]\n",
    "        \n",
    "        if d > threshold:  \n",
    "            difference = math.floor(((i-previous)/rate) - 0.2)\n",
    "                        \n",
    "            previous = i\n",
    "            i += int(rate/2)\n",
    "            \n",
    "            clanks += 1\n",
    "            \n",
    "            if difference > 0:\n",
    "                nonClanks += difference\n",
    "                \n",
    "                time = i/rate\n",
    "                \n",
    "                minute = math.floor(time/60)\n",
    "                second = round(( ((time)/60) - minute )*60)\n",
    "                \n",
    "                minute = str(minute)\n",
    "                second = str(second)\n",
    "                \n",
    "                #print(str(difference) + \" non clank! @ \" + str(minute) +\":\"+ str(second))\n",
    "            \n",
    "            #if clanks%200 == 0:\n",
    "                #print( str(round(i*100/size)) + \"%\" )\n",
    "        i += 1\n",
    "        \n",
    "    #print()\n",
    "    print(\"number of clanks:\")\n",
    "    print(clanks)\n",
    "    print(\"non-clanks:\")\n",
    "    #print(1000-clanks)\n",
    "    print(nonClanks)\n",
    "    print(\"total:\")\n",
    "    print(nonClanks+clanks)\n",
    "    \n",
    "    print()\n",
    "    \n",
    "    perMil = 1000*nonClanks/(clanks+nonClanks)\n",
    "    #print(\"per mil:\")\n",
    "    #print(perMil)\n",
    "    \n",
    "    print(\"%:\")\n",
    "    print(perMil/10)\n",
    "    \n",
    "    return perMil/10"
   ]
  },
  {
   "cell_type": "code",
   "execution_count": 3,
   "id": "fb79576b-3b0b-4b0b-8441-0f4dc1853273",
   "metadata": {
    "tags": []
   },
   "outputs": [
    {
     "name": "stdout",
     "output_type": "stream",
     "text": [
      "\n",
      "number of clanks:\n",
      "1010\n",
      "non-clanks:\n",
      "35\n",
      "total:\n",
      "1045\n",
      "\n",
      "%:\n",
      "3.349282296650718\n"
     ]
    }
   ],
   "source": [
    "result = Count(\"B0XX-2_GCN-3_GCN.wav\",10000) # B0XX FW on Arduino Leonardo vs GCC on console\n",
    "# GCC won every non-clank"
   ]
  },
  {
   "cell_type": "code",
   "execution_count": 4,
   "id": "91ea6a49-c7cb-476c-9a4e-980f892d427f",
   "metadata": {
    "scrolled": true,
    "tags": []
   },
   "outputs": [
    {
     "name": "stdout",
     "output_type": "stream",
     "text": [
      "\n",
      "number of clanks:\n",
      "815\n",
      "non-clanks:\n",
      "185\n",
      "total:\n",
      "1000\n",
      "\n",
      "%:\n",
      "18.5\n"
     ]
    }
   ],
   "source": [
    "result = Count(\"B0XX-4_GCN-2_PC.wav\",10000) # B0XX FW on Arduino Leonardo vs GCC (port 2, 1000Hz adapter) on PC\n",
    "# B0XX won every non-clank"
   ]
  },
  {
   "cell_type": "code",
   "execution_count": 5,
   "id": "e27d559b-5bc7-4686-b056-6b2e1f45166a",
   "metadata": {
    "scrolled": true,
    "tags": []
   },
   "outputs": [
    {
     "name": "stdout",
     "output_type": "stream",
     "text": [
      "\n",
      "number of clanks:\n",
      "543\n",
      "non-clanks:\n",
      "489\n",
      "total:\n",
      "1032\n",
      "\n",
      "%:\n",
      "47.383720930232556\n"
     ]
    }
   ],
   "source": [
    "result = Count(\"CFW-2_GCN-3_GCN.wav\",10000)  # Crane Firmware on Arduino Leonardo vs GCC on console\n",
    "# GCC won every non-clank"
   ]
  },
  {
   "cell_type": "code",
   "execution_count": 6,
   "id": "8a7b4a8a-513d-4280-b1e4-0a5589232f32",
   "metadata": {
    "scrolled": true,
    "tags": []
   },
   "outputs": [
    {
     "name": "stdout",
     "output_type": "stream",
     "text": [
      "\n",
      "number of clanks:\n",
      "866\n",
      "non-clanks:\n",
      "183\n",
      "total:\n",
      "1049\n",
      "\n",
      "%:\n",
      "17.44518589132507\n"
     ]
    }
   ],
   "source": [
    "result = Count(\"CFW-4_GCN-2_PC.wav\",10000) # Crane Firmware on Arduino Leonardo vs GCC on PC\n",
    "# CL-FW won every non-clank"
   ]
  },
  {
   "cell_type": "code",
   "execution_count": 7,
   "id": "c7e28f15-959c-4e76-962d-add9c0eeed02",
   "metadata": {},
   "outputs": [
    {
     "name": "stdout",
     "output_type": "stream",
     "text": [
      "\n",
      "number of clanks:\n",
      "918\n",
      "non-clanks:\n",
      "135\n",
      "total:\n",
      "1053\n",
      "\n",
      "%:\n",
      "12.820512820512821\n"
     ]
    }
   ],
   "source": [
    "result = Count(\"CFW-D-2_GCN-3_GCN.wav\",10000) # Crane Firmware w/ delay lagfix on Arduino Leonardo vs GCC on console\n",
    "# GCC won every non-clank"
   ]
  },
  {
   "cell_type": "code",
   "execution_count": 8,
   "id": "7cb999de-6a35-4e09-9fb5-0f5adeb72dfe",
   "metadata": {},
   "outputs": [
    {
     "name": "stdout",
     "output_type": "stream",
     "text": [
      "\n",
      "number of clanks:\n",
      "1011\n",
      "non-clanks:\n",
      "0\n",
      "total:\n",
      "1011\n",
      "\n",
      "%:\n",
      "0.0\n"
     ]
    }
   ],
   "source": [
    "result = Count(\"FP2-2_GCN-3_GCN.wav\",10000) # FastBox vs GCC on console\n",
    "# GCC eventually won after ~16,000 non-clanks when experiment was left running"
   ]
  },
  {
   "cell_type": "code",
   "execution_count": 9,
   "id": "5b4a51c5-9bbf-4e31-a768-ec8ae6c1ae3f",
   "metadata": {},
   "outputs": [
    {
     "name": "stdout",
     "output_type": "stream",
     "text": [
      "\n",
      "number of clanks:\n",
      "3669\n",
      "non-clanks:\n",
      "3\n",
      "total:\n",
      "3672\n",
      "\n",
      "%:\n",
      "0.08169934640522876\n"
     ]
    }
   ],
   "source": [
    "result = Count(\"FP2-2_PICO-3_GCN.wav\",10000) # FastBox vs Pico on console\n",
    "# FastBox won every non-clank"
   ]
  },
  {
   "cell_type": "code",
   "execution_count": 10,
   "id": "ff41989a-29e5-46fb-b20f-8a21c0163d0e",
   "metadata": {},
   "outputs": [
    {
     "name": "stdout",
     "output_type": "stream",
     "text": [
      "\n",
      "number of clanks:\n",
      "3631\n",
      "non-clanks:\n",
      "3\n",
      "total:\n",
      "3634\n",
      "\n",
      "%:\n",
      "0.0825536598789213\n"
     ]
    }
   ],
   "source": [
    "result = Count(\"FP2-3_PICO-2_GCN.wav\",10000) # FastBox vs Pico on console (swapped ports)\n",
    "# FastBox won every non-clank"
   ]
  },
  {
   "cell_type": "code",
   "execution_count": 11,
   "id": "49e9b4dc-351b-489b-b7d6-53b4154f0c50",
   "metadata": {},
   "outputs": [
    {
     "name": "stdout",
     "output_type": "stream",
     "text": [
      "\n",
      "number of clanks:\n",
      "929\n",
      "non-clanks:\n",
      "117\n",
      "total:\n",
      "1046\n",
      "\n",
      "%:\n",
      "11.18546845124283\n"
     ]
    }
   ],
   "source": [
    "result = Count(\"FP2-4_GCN-2_PC.wav\",10000) # FastBox vs GCC on PC\n",
    "# GCC won every non-clank"
   ]
  },
  {
   "cell_type": "code",
   "execution_count": 12,
   "id": "c904deb6-10ed-4864-be2f-a124314a2371",
   "metadata": {},
   "outputs": [
    {
     "name": "stdout",
     "output_type": "stream",
     "text": [
      "\n",
      "number of clanks:\n",
      "951\n",
      "non-clanks:\n",
      "79\n",
      "total:\n",
      "1030\n",
      "\n",
      "%:\n",
      "7.6699029126213585\n"
     ]
    }
   ],
   "source": [
    "result = Count(\"FP2-4_GCN-2_PC_2.wav\",10000) # FastBox vs GCC on PC (second test)\n",
    "# GCC won every non-clank"
   ]
  },
  {
   "cell_type": "code",
   "execution_count": 13,
   "id": "b96ec4dc-fc7e-45c3-b132-ac27ceb05dae",
   "metadata": {},
   "outputs": [
    {
     "name": "stdout",
     "output_type": "stream",
     "text": [
      "\n",
      "number of clanks:\n",
      "1004\n",
      "non-clanks:\n",
      "1\n",
      "total:\n",
      "1005\n",
      "\n",
      "%:\n",
      "0.09950248756218906\n"
     ]
    }
   ],
   "source": [
    "result = Count(\"PICO-3_GCN-2_GCN.wav\",10000) # Pico vs GCC on console\n",
    "# GCC won every non-clank"
   ]
  },
  {
   "cell_type": "code",
   "execution_count": 14,
   "id": "6ff0e17f-de1e-424f-8462-407430c7f807",
   "metadata": {},
   "outputs": [
    {
     "name": "stdout",
     "output_type": "stream",
     "text": [
      "\n",
      "number of clanks:\n",
      "974\n",
      "non-clanks:\n",
      "27\n",
      "total:\n",
      "1001\n",
      "\n",
      "%:\n",
      "2.697302697302697\n"
     ]
    }
   ],
   "source": [
    "result = Count(\"PICO-ADP-1_PICO-HID-4_PC.wav\",10000) # Pico (adapter mode) vs Pico (HID mode) on PC (adapter mode can't be tested directly since you can't use it and a GC adapter concurrently)\n",
    "# adapter won 17 times and HID won 10"
   ]
  },
  {
   "cell_type": "code",
   "execution_count": 15,
   "id": "914690bf-b598-4355-90c7-69b690e1e3ce",
   "metadata": {},
   "outputs": [
    {
     "name": "stdout",
     "output_type": "stream",
     "text": [
      "\n",
      "number of clanks:\n",
      "706\n",
      "non-clanks:\n",
      "294\n",
      "total:\n",
      "1000\n",
      "\n",
      "%:\n",
      "29.4\n"
     ]
    }
   ],
   "source": [
    "result = Count(\"PICO-HID-4_GCN-2_PC.wav\",10000) # Pico (HID mode) vs GCC on PC\n",
    "# Pico won every non-clank"
   ]
  },
  {
   "cell_type": "code",
   "execution_count": null,
   "id": "a87b0e2d-12fe-44a5-92db-7db9fbac5d78",
   "metadata": {},
   "outputs": [],
   "source": []
  }
 ],
 "metadata": {
  "kernelspec": {
   "display_name": "Python 3",
   "language": "python",
   "name": "python3"
  },
  "language_info": {
   "codemirror_mode": {
    "name": "ipython",
    "version": 3
   },
   "file_extension": ".py",
   "mimetype": "text/x-python",
   "name": "python",
   "nbconvert_exporter": "python",
   "pygments_lexer": "ipython3",
   "version": "3.8.8"
  }
 },
 "nbformat": 4,
 "nbformat_minor": 5
}
